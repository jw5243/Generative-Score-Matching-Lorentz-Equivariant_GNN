{
 "cells": [
  {
   "cell_type": "code",
   "execution_count": 1,
   "id": "76e95b00-f0fa-4677-9f2c-54adfeb5bc1f",
   "metadata": {},
   "outputs": [],
   "source": [
    "import numpy as np\n",
    "import matplotlib.pyplot as plt\n",
    "import matplotlib.ticker as mtick\n",
    "from matplotlib import gridspec\n",
    "import argparse\n",
    "import h5py as h5\n",
    "import os\n",
    "import utils\n",
    "import tensorflow as tf\n",
    "from GSGM import GSGM\n",
    "from GSGM_distill import GSGM_distill\n",
    "import time\n",
    "import gc\n",
    "import sys\n",
    "from scipy.stats import wasserstein_distance\n",
    "from plot_class import PlottingConfig"
   ]
  },
  {
   "cell_type": "code",
   "execution_count": 2,
   "id": "bf7381b9-b639-49ad-bb88-21bdcd63dbe9",
   "metadata": {},
   "outputs": [],
   "source": [
    "def generate_jets(batch_size, jet_feature_dim):\n",
    "    return tf.concat([tf.random.normal([batch_size // 2, jet_feature_dim], mean = 3., stddev = 1.5),\n",
    "                      tf.random.normal([batch_size // 2, jet_feature_dim], mean = -3., stddev = 1.5)], axis = 0)"
   ]
  },
  {
   "cell_type": "code",
   "execution_count": 3,
   "id": "eeb3f944-5a09-498e-b1d7-75cc9cc46d55",
   "metadata": {},
   "outputs": [
    {
     "name": "stderr",
     "output_type": "stream",
     "text": [
      "2023-04-24 14:50:35.286040: I tensorflow/core/platform/cpu_feature_guard.cc:193] This TensorFlow binary is optimized with oneAPI Deep Neural Network Library (oneDNN) to use the following CPU instructions in performance-critical operations:  AVX2 FMA\n",
      "To enable them in other operations, rebuild TensorFlow with the appropriate compiler flags.\n",
      "2023-04-24 14:50:37.155866: I tensorflow/core/common_runtime/gpu/gpu_device.cc:1532] Created device /job:localhost/replica:0/task:0/device:GPU:0 with 37014 MB memory:  -> device: 0, name: NVIDIA A100-SXM4-40GB, pci bus id: 0000:03:00.0, compute capability: 8.0\n",
      "2023-04-24 14:50:37.157508: I tensorflow/core/common_runtime/gpu/gpu_device.cc:1532] Created device /job:localhost/replica:0/task:0/device:GPU:1 with 38218 MB memory:  -> device: 1, name: NVIDIA A100-SXM4-40GB, pci bus id: 0000:41:00.0, compute capability: 8.0\n",
      "2023-04-24 14:50:37.159094: I tensorflow/core/common_runtime/gpu/gpu_device.cc:1532] Created device /job:localhost/replica:0/task:0/device:GPU:2 with 38218 MB memory:  -> device: 2, name: NVIDIA A100-SXM4-40GB, pci bus id: 0000:82:00.0, compute capability: 8.0\n",
      "2023-04-24 14:50:37.160808: I tensorflow/core/common_runtime/gpu/gpu_device.cc:1532] Created device /job:localhost/replica:0/task:0/device:GPU:3 with 38218 MB memory:  -> device: 3, name: NVIDIA A100-SXM4-40GB, pci bus id: 0000:c1:00.0, compute capability: 8.0\n"
     ]
    },
    {
     "data": {
      "text/plain": [
       "<tensorflow.python.training.tracking.util.CheckpointLoadStatus at 0x7f7990040580>"
      ]
     },
     "execution_count": 3,
     "metadata": {},
     "output_type": "execute_result"
    }
   ],
   "source": [
    "config = utils.LoadJson('gaussian_config_jet.json')\n",
    "model_name = config['MODEL_NAME']\n",
    "sample_name = model_name\n",
    "\n",
    "particle_count = 1\n",
    "\n",
    "model = GSGM(config = config, npart = particle_count)\n",
    "\n",
    "checkpoint_folder = '../checkpoints_{}/checkpoint'.format(model_name)\n",
    "model.load_weights('{}'.format(checkpoint_folder)).expect_partial()"
   ]
  },
  {
   "cell_type": "code",
   "execution_count": 6,
   "id": "52e85b45-10e8-427f-9fd8-fd705a14efa8",
   "metadata": {},
   "outputs": [
    {
     "name": "stdout",
     "output_type": "stream",
     "text": [
      "Time for sampling 32 events is 0.13243651390075684 seconds\n"
     ]
    },
    {
     "ename": "FileNotFoundError",
     "evalue": "[Errno 2] No such file or directory: 'preprocessing_1.json'",
     "output_type": "error",
     "traceback": [
      "\u001b[0;31m---------------------------------------------------------------------------\u001b[0m",
      "\u001b[0;31mFileNotFoundError\u001b[0m                         Traceback (most recent call last)",
      "Cell \u001b[0;32mIn[6], line 4\u001b[0m\n\u001b[1;32m      1\u001b[0m jets_gen \u001b[38;5;241m=\u001b[39m []\n\u001b[1;32m      3\u001b[0m \u001b[38;5;28;01mfor\u001b[39;00m i \u001b[38;5;129;01min\u001b[39;00m \u001b[38;5;28mrange\u001b[39m(\u001b[38;5;241m10\u001b[39m):\n\u001b[0;32m----> 4\u001b[0m     p, j \u001b[38;5;241m=\u001b[39m \u001b[43mmodel\u001b[49m\u001b[38;5;241;43m.\u001b[39;49m\u001b[43mgenerate\u001b[49m\u001b[43m(\u001b[49m\u001b[43mtf\u001b[49m\u001b[38;5;241;43m.\u001b[39;49m\u001b[43mones\u001b[49m\u001b[43m(\u001b[49m\u001b[43m[\u001b[49m\u001b[38;5;241;43m32\u001b[39;49m\u001b[43m,\u001b[49m\u001b[43m \u001b[49m\u001b[38;5;241;43m1\u001b[39;49m\u001b[43m]\u001b[49m\u001b[43m)\u001b[49m\u001b[43m,\u001b[49m\u001b[43m \u001b[49m\u001b[38;5;28;43;01mNone\u001b[39;49;00m\u001b[43m)\u001b[49m\n\u001b[1;32m      5\u001b[0m     jets_gen\u001b[38;5;241m.\u001b[39mappend(j)\n\u001b[1;32m      7\u001b[0m jets_gen \u001b[38;5;241m=\u001b[39m np\u001b[38;5;241m.\u001b[39mconcatenate(jets_gen)\n",
      "File \u001b[0;32m/global/u1/j/jtwong71/GSGM/scripts/GSGM.py:279\u001b[0m, in \u001b[0;36mGSGM.generate\u001b[0;34m(self, cond, jet_info)\u001b[0m\n\u001b[1;32m    276\u001b[0m end \u001b[38;5;241m=\u001b[39m time\u001b[38;5;241m.\u001b[39mtime()\n\u001b[1;32m    277\u001b[0m \u001b[38;5;28mprint\u001b[39m(\u001b[38;5;124m\"\u001b[39m\u001b[38;5;124mTime for sampling \u001b[39m\u001b[38;5;132;01m{}\u001b[39;00m\u001b[38;5;124m events is \u001b[39m\u001b[38;5;132;01m{}\u001b[39;00m\u001b[38;5;124m seconds\u001b[39m\u001b[38;5;124m\"\u001b[39m\u001b[38;5;241m.\u001b[39mformat(cond\u001b[38;5;241m.\u001b[39mshape[\u001b[38;5;241m0\u001b[39m],end \u001b[38;5;241m-\u001b[39m start))\n\u001b[0;32m--> 279\u001b[0m nparts \u001b[38;5;241m=\u001b[39m np\u001b[38;5;241m.\u001b[39mexpand_dims(np\u001b[38;5;241m.\u001b[39mclip(\u001b[43mutils\u001b[49m\u001b[38;5;241;43m.\u001b[39;49m\u001b[43mrevert_npart\u001b[49m\u001b[43m(\u001b[49m\u001b[43mjet_info\u001b[49m\u001b[43m[\u001b[49m\u001b[43m:\u001b[49m\u001b[43m,\u001b[49m\u001b[38;5;241;43m-\u001b[39;49m\u001b[38;5;241;43m1\u001b[39;49m\u001b[43m]\u001b[49m\u001b[43m,\u001b[49m\u001b[38;5;28;43mself\u001b[39;49m\u001b[38;5;241;43m.\u001b[39;49m\u001b[43mmax_part\u001b[49m\u001b[43m)\u001b[49m,\n\u001b[1;32m    280\u001b[0m                                 \u001b[38;5;241m0\u001b[39m,\u001b[38;5;28mself\u001b[39m\u001b[38;5;241m.\u001b[39mmax_part),\u001b[38;5;241m-\u001b[39m\u001b[38;5;241m1\u001b[39m)\n\u001b[1;32m    281\u001b[0m \u001b[38;5;66;03m#print(np.unique(nparts))\u001b[39;00m\n\u001b[1;32m    282\u001b[0m mask \u001b[38;5;241m=\u001b[39m np\u001b[38;5;241m.\u001b[39mexpand_dims(\n\u001b[1;32m    283\u001b[0m     np\u001b[38;5;241m.\u001b[39mtile(np\u001b[38;5;241m.\u001b[39marange(\u001b[38;5;28mself\u001b[39m\u001b[38;5;241m.\u001b[39mmax_part),(nparts\u001b[38;5;241m.\u001b[39mshape[\u001b[38;5;241m0\u001b[39m],\u001b[38;5;241m1\u001b[39m)) \u001b[38;5;241m<\u001b[39m np\u001b[38;5;241m.\u001b[39mtile(nparts,(\u001b[38;5;241m1\u001b[39m,\u001b[38;5;28mself\u001b[39m\u001b[38;5;241m.\u001b[39mmax_part)),\u001b[38;5;241m-\u001b[39m\u001b[38;5;241m1\u001b[39m)\n",
      "File \u001b[0;32m/global/u1/j/jtwong71/GSGM/scripts/utils.py:270\u001b[0m, in \u001b[0;36mrevert_npart\u001b[0;34m(npart, max_npart)\u001b[0m\n\u001b[1;32m    266\u001b[0m \u001b[38;5;28;01mdef\u001b[39;00m \u001b[38;5;21mrevert_npart\u001b[39m(npart,max_npart):\n\u001b[1;32m    267\u001b[0m \n\u001b[1;32m    268\u001b[0m     \u001b[38;5;66;03m#Revert the preprocessing to recover the particle multiplicity\u001b[39;00m\n\u001b[1;32m    269\u001b[0m     alpha \u001b[38;5;241m=\u001b[39m \u001b[38;5;241m1e-6\u001b[39m\n\u001b[0;32m--> 270\u001b[0m     data_dict \u001b[38;5;241m=\u001b[39m \u001b[43mLoadJson\u001b[49m\u001b[43m(\u001b[49m\u001b[38;5;124;43m'\u001b[39;49m\u001b[38;5;124;43mpreprocessing_\u001b[39;49m\u001b[38;5;132;43;01m{}\u001b[39;49;00m\u001b[38;5;124;43m.json\u001b[39;49m\u001b[38;5;124;43m'\u001b[39;49m\u001b[38;5;241;43m.\u001b[39;49m\u001b[43mformat\u001b[49m\u001b[43m(\u001b[49m\u001b[43mmax_npart\u001b[49m\u001b[43m)\u001b[49m\u001b[43m)\u001b[49m\n\u001b[1;32m    271\u001b[0m     x \u001b[38;5;241m=\u001b[39m npart\u001b[38;5;241m*\u001b[39mdata_dict[\u001b[38;5;124m'\u001b[39m\u001b[38;5;124mstd_jet\u001b[39m\u001b[38;5;124m'\u001b[39m][\u001b[38;5;241m-\u001b[39m\u001b[38;5;241m1\u001b[39m] \u001b[38;5;241m+\u001b[39m data_dict[\u001b[38;5;124m'\u001b[39m\u001b[38;5;124mmean_jet\u001b[39m\u001b[38;5;124m'\u001b[39m][\u001b[38;5;241m-\u001b[39m\u001b[38;5;241m1\u001b[39m]\n\u001b[1;32m    272\u001b[0m     x \u001b[38;5;241m=\u001b[39m revert_logit(x)\n",
      "File \u001b[0;32m/global/u1/j/jtwong71/GSGM/scripts/utils.py:259\u001b[0m, in \u001b[0;36mLoadJson\u001b[0;34m(file_name)\u001b[0m\n\u001b[1;32m    257\u001b[0m \u001b[38;5;28;01mimport\u001b[39;00m \u001b[38;5;21;01mjson\u001b[39;00m\u001b[38;5;241m,\u001b[39m\u001b[38;5;21;01myaml\u001b[39;00m\n\u001b[1;32m    258\u001b[0m JSONPATH \u001b[38;5;241m=\u001b[39m os\u001b[38;5;241m.\u001b[39mpath\u001b[38;5;241m.\u001b[39mjoin(file_name)\n\u001b[0;32m--> 259\u001b[0m \u001b[38;5;28;01mreturn\u001b[39;00m yaml\u001b[38;5;241m.\u001b[39msafe_load(\u001b[38;5;28;43mopen\u001b[39;49m\u001b[43m(\u001b[49m\u001b[43mJSONPATH\u001b[49m\u001b[43m)\u001b[49m)\n",
      "\u001b[0;31mFileNotFoundError\u001b[0m: [Errno 2] No such file or directory: 'preprocessing_1.json'"
     ]
    }
   ],
   "source": [
    "jets_gen = []\n",
    "\n",
    "for i in range(10):\n",
    "    p, j = model.generate(tf.ones([32, 1]), None)\n",
    "    jets_gen.append(j)\n",
    "\n",
    "jets_gen = np.concatenate(jets_gen)\n",
    "print(jets_gen.shape)"
   ]
  },
  {
   "cell_type": "code",
   "execution_count": 5,
   "id": "80518d6c-6937-434d-8bc0-ff45ca4d13c8",
   "metadata": {},
   "outputs": [
    {
     "ename": "TypeError",
     "evalue": "list indices must be integers or slices, not tuple",
     "output_type": "error",
     "traceback": [
      "\u001b[0;31m---------------------------------------------------------------------------\u001b[0m",
      "\u001b[0;31mTypeError\u001b[0m                                 Traceback (most recent call last)",
      "Cell \u001b[0;32mIn[5], line 5\u001b[0m\n\u001b[1;32m      3\u001b[0m plt\u001b[38;5;241m.\u001b[39mtitle(\u001b[38;5;124m'\u001b[39m\u001b[38;5;124mGSGM Gaussian Example\u001b[39m\u001b[38;5;124m'\u001b[39m)\n\u001b[1;32m      4\u001b[0m plt\u001b[38;5;241m.\u001b[39mylabel(\u001b[38;5;124m'\u001b[39m\u001b[38;5;124mNormalized counts per bin\u001b[39m\u001b[38;5;124m'\u001b[39m)\n\u001b[0;32m----> 5\u001b[0m plt\u001b[38;5;241m.\u001b[39mhist(\u001b[43mjets_gen\u001b[49m\u001b[43m[\u001b[49m\u001b[43m:\u001b[49m\u001b[43m,\u001b[49m\u001b[43m \u001b[49m\u001b[38;5;241;43m0\u001b[39;49m\u001b[43m]\u001b[49m, \u001b[38;5;241m100\u001b[39m, \u001b[38;5;28mrange\u001b[39m \u001b[38;5;241m=\u001b[39m (\u001b[38;5;241m-\u001b[39m\u001b[38;5;241m8\u001b[39m, \u001b[38;5;241m8\u001b[39m), density \u001b[38;5;241m=\u001b[39m \u001b[38;5;28;01mTrue\u001b[39;00m, alpha \u001b[38;5;241m=\u001b[39m \u001b[38;5;241m0.5\u001b[39m, label \u001b[38;5;241m=\u001b[39m \u001b[38;5;124m'\u001b[39m\u001b[38;5;124mModel output\u001b[39m\u001b[38;5;124m'\u001b[39m)\n\u001b[1;32m      6\u001b[0m plt\u001b[38;5;241m.\u001b[39mhist(jets_data[:, \u001b[38;5;241m0\u001b[39m], \u001b[38;5;241m100\u001b[39m, \u001b[38;5;28mrange\u001b[39m \u001b[38;5;241m=\u001b[39m (\u001b[38;5;241m-\u001b[39m\u001b[38;5;241m8\u001b[39m, \u001b[38;5;241m8\u001b[39m), density \u001b[38;5;241m=\u001b[39m \u001b[38;5;28;01mTrue\u001b[39;00m, alpha \u001b[38;5;241m=\u001b[39m \u001b[38;5;241m0.5\u001b[39m, label \u001b[38;5;241m=\u001b[39m \u001b[38;5;124m'\u001b[39m\u001b[38;5;124mData\u001b[39m\u001b[38;5;124m'\u001b[39m)\n\u001b[1;32m      7\u001b[0m plt\u001b[38;5;241m.\u001b[39mlegend()\n",
      "\u001b[0;31mTypeError\u001b[0m: list indices must be integers or slices, not tuple"
     ]
    },
    {
     "data": {
      "image/png": "[encoded data removed]",
      "text/plain": [
       "<Figure size 640x480 with 1 Axes>"
      ]
     },
     "metadata": {},
     "output_type": "display_data"
    }
   ],
   "source": [
    "jets_data = generate_jets(32 * 10, 1)\n",
    "\n",
    "plt.title('GSGM Gaussian Example')\n",
    "plt.ylabel('Normalized counts per bin')\n",
    "plt.hist(jets_gen[:, 0], 100, range = (-8, 8), density = True, alpha = 0.5, label = 'Model output')\n",
    "plt.hist(jets_data[:, 0], 100, range = (-8, 8), density = True, alpha = 0.5, label = 'Data')\n",
    "plt.legend()\n",
    "plt.show()"
   ]
  },
  {
   "cell_type": "code",
   "execution_count": null,
   "id": "9e429501-5766-455a-8ec8-d448c353a029",
   "metadata": {},
   "outputs": [],
   "source": []
  }
 ],
 "metadata": {
  "kernelspec": {
   "display_name": "tensorflow-2.9.0",
   "language": "python",
   "name": "tensorflow-2.9.0"
  },
  "language_info": {
   "codemirror_mode": {
    "name": "ipython",
    "version": 3
   },
   "file_extension": ".py",
   "mimetype": "text/x-python",
   "name": "python",
   "nbconvert_exporter": "python",
   "pygments_lexer": "ipython3",
   "version": "3.9.15"
  }
 },
 "nbformat": 4,
 "nbformat_minor": 5
}
